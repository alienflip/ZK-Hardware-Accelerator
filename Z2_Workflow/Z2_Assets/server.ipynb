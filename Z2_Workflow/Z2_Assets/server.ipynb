{
 "cells": [
  {
   "cell_type": "code",
   "execution_count": null,
   "metadata": {},
   "outputs": [],
   "source": [
    "import socket, pickle\n",
    "\n",
    "file = open('in_data.pkl','wb')\n",
    "file_ = open('out_data_test.pkl','rb')\n",
    "\n",
    "s = socket.socket(socket.AF_INET, socket.SOCK_STREAM)\n",
    "host = \"192.168.2.1\"  # FPGA IP\n",
    "port = 9092  # Shared port\n",
    "\n",
    "sock = socket.socket()\n",
    "HOST = \"192.168.2.99\"  # FPGA IP\n",
    "PORT = 9091  # Shared port\n",
    "sock.bind((HOST, PORT))\n",
    "sock.listen()"
   ]
  },
  {
   "cell_type": "code",
   "execution_count": null,
   "metadata": {},
   "outputs": [],
   "source": [
    "while True:\n",
    "    c, addr = sock.accept()\n",
    "    print ('Connected to ', addr)\n",
    "    bytes_ = c.recv(2048)\n",
    "    while (bytes_):\n",
    "        file.write(bytes_)\n",
    "        bytes_ = c.recv(2048)\n",
    "    file.close()\n",
    "    c.close()\n",
    "    break\n",
    "sock.shutdown(socket.SHUT_WR)\n",
    "\n",
    "s.connect((host, port))\n",
    "bytes_ = file_.read(2048)\n",
    "while (bytes_):\n",
    "    s.send(bytes_)\n",
    "    bytes_ = file_.read(2048)\n",
    "file_.close()\n",
    "s.shutdown(socket.SHUT_WR)\n",
    "\n",
    "sock.close()\n",
    "s.close()"
   ]
  }
 ],
 "metadata": {
  "language_info": {
   "name": "python"
  },
  "orig_nbformat": 4
 },
 "nbformat": 4,
 "nbformat_minor": 2
}
