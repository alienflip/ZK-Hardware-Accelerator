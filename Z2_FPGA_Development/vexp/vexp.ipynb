{
 "cells": [
  {
   "cell_type": "code",
   "execution_count": null,
   "metadata": {},
   "outputs": [],
   "source": [
    "from pynq import Overlay, allocate\n",
    "import pynq.lib.dma\n",
    "import numpy as np\n",
    "\n",
    "DIM=16\n",
    "\n",
    "DATA_TYPE = np.float\n",
    "\n",
    "in_buffer_A = allocate(shape=(DIM,), dtype=DATA_TYPE, cacheable=False)\n",
    "out_buffer_C = allocate(shape=(DIM,), dtype=DATA_TYPE, cacheable=False)\n",
    "A = np.array([x for x in range(DIM)], dtype=DATA_TYPE)\n",
    "C = np.zeros((DIM,), dtype=DATA_TYPE)\n",
    "\n",
    "ol = Overlay('./design_1.bit')\n",
    "ol.download()\n",
    "    \n",
    "dma0 = ol.axi_dma_0\n",
    "\n",
    "np.copyto(in_buffer_A, A)\n",
    "np.copyto(out_buffer_C, C)\n",
    "\n",
    "def silicon():\n",
    "    dma0.sendchannel.transfer(in_buffer_A)\n",
    "    dma0.recvchannel.transfer(out_buffer_C)\n",
    "    dma0.sendchannel.wait()\n",
    "    dma0.recvchannel.wait()\n",
    "    return out_buffer_C\n",
    "\n",
    "def native():\n",
    "    return np.exp(A)"
   ]
  },
  {
   "cell_type": "code",
   "execution_count": null,
   "metadata": {},
   "outputs": [],
   "source": [
    "print(\"software execution:\")\n",
    "%time golden = native()"
   ]
  },
  {
   "cell_type": "code",
   "execution_count": null,
   "metadata": {},
   "outputs": [],
   "source": [
    "print(\"hardware execution:\")\n",
    "%time FPGA = silicon()"
   ]
  },
  {
   "cell_type": "code",
   "execution_count": null,
   "metadata": {},
   "outputs": [],
   "source": [
    "golden, silicon"
   ]
  }
 ],
 "metadata": {
  "kernelspec": {
   "display_name": "Python 3.6.9 64-bit",
   "language": "python",
   "name": "python3"
  },
  "language_info": {
   "name": "python",
   "version": "3.6.9"
  },
  "orig_nbformat": 4,
  "vscode": {
   "interpreter": {
    "hash": "31f2aee4e71d21fbe5cf8b01ff0e069b9275f58929596ceb00d14d90e3e16cd6"
   }
  }
 },
 "nbformat": 4,
 "nbformat_minor": 2
}
